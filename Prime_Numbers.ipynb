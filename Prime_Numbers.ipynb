{
  "nbformat": 4,
  "nbformat_minor": 0,
  "metadata": {
    "colab": {
      "provenance": [],
      "toc_visible": true,
      "authorship_tag": "ABX9TyOu8fgSkGB4ueuRIkfXL73d",
      "include_colab_link": true
    },
    "kernelspec": {
      "name": "python3",
      "display_name": "Python 3"
    },
    "language_info": {
      "name": "python"
    }
  },
  "cells": [
    {
      "cell_type": "markdown",
      "metadata": {
        "id": "view-in-github",
        "colab_type": "text"
      },
      "source": [
        "<a href=\"https://colab.research.google.com/github/ruchanimbalkar/PythonBasics/blob/main/Prime_Numbers.ipynb\" target=\"_parent\"><img src=\"https://colab.research.google.com/assets/colab-badge.svg\" alt=\"Open In Colab\"/></a>"
      ]
    },
    {
      "cell_type": "markdown",
      "source": [
        "# Write a program to generate Prime numbers from 1 to 100\n",
        "**Theory**\n",
        "Prime numbers are the Natural numbers that are greater than 1\n",
        "and only divisible by 1 (or the number itself).\n",
        "Natural numbers are the numbers 1,2,3...and so on up to infinity.\n",
        "Discovered by Greek Mathematician Euclid, Prime numbers are only\n",
        "divisible by 1 or the number itself.\n",
        "Examples: 2,3,5,7,etc.\n",
        "#Clue : A number that is not prime is called a Composite number.\n",
        "Composite numbers can be expressed in terms of factors. Composite number\n",
        "can be composed by mutliplying together smaller prime numbers, which are\n",
        "known as its prime factors.\n",
        "Examples: 4,6,8,9,10,12,14,15,21,35,70,210,etc.\n",
        "**Notice that composite numbers can be even or odd. **\n",
        "That is they can be divisible by 2 or not divisible by 2.\n",
        "#Remember O is neither a prime number nor a Composite number. O is not a Natural number. O is a Whole number.\n",
        "#Remember 1 is neither a prime number nor a Composite number. 1 is a Natural number and also a Whole number.\n",
        "\n",
        "\n",
        "\n",
        "---\n",
        "\n",
        "\n",
        "#Pseudocode (English)\n",
        "1. For numbers from 2 to 100\n",
        "\n",
        "    1. If number is 2 or 3 or 5 or 7\n",
        "         1. Print number\n",
        "    2. Else if number is not diviisble by 2 and 3 and 5 and 7 (remainder is not zero)\n",
        "          1. Print number\n",
        "\n",
        "\n",
        "\n"
      ],
      "metadata": {
        "id": "ePGz_e4yJ0Xp"
      }
    },
    {
      "cell_type": "code",
      "source": [
        "for i in range (2,101):#We use the range function and use start equals 2 as start is included . We use end equals 101 as end is not included. We know 100is not a prime number but we don't assume it. We use the by default step=1\n",
        "  if i== 2 or i==3 or i==5 or i==7:\n",
        "    print(i)#We know 2,3,5 and 7 are prime numbers\n",
        "  elif i%2!=0 and i%3!=0 and i%5!=0 and i%7!=0:\n",
        "    print(i)#We know prime numbers are only divisible by 1 (or the number itself). Prime numbers are not divisible by 2 and 3 and 5 and 7"
      ],
      "metadata": {
        "colab": {
          "base_uri": "https://localhost:8080/"
        },
        "id": "bVJ725Or9nOo",
        "outputId": "5d2a904e-366b-412e-f4e0-5d8bbc814c81"
      },
      "execution_count": null,
      "outputs": [
        {
          "output_type": "stream",
          "name": "stdout",
          "text": [
            "2\n",
            "3\n",
            "5\n",
            "7\n",
            "11\n",
            "13\n",
            "17\n",
            "19\n",
            "23\n",
            "29\n",
            "31\n",
            "37\n",
            "41\n",
            "43\n",
            "47\n",
            "53\n",
            "59\n",
            "61\n",
            "67\n",
            "71\n",
            "73\n",
            "79\n",
            "83\n",
            "89\n",
            "97\n"
          ]
        }
      ]
    },
    {
      "cell_type": "markdown",
      "source": [
        "#Write  a program that accepts user input (any Natural number > 1) and determines whether the user input is a Composite number.\n",
        "**Pseudo code (English)**\n",
        "1. Import Math\n",
        "2. Create/Declare a boolean variable(is_Composite) and assign it the value False\n",
        "3.   Ask the user to enter a Natural number greater than 1\n",
        "\n",
        "4.   Check if input is valid\n",
        "      1. If input not valid (alphanumeric or a negative number or a floating point number or 0 or 1)\n",
        "          1. print invalid input\n",
        "      2. Else (Proceed because if condition is false as input is valid)\n",
        "          1. Convert the number to integer format (by default the input is of String datatype).\n",
        "          2. If number equals 2 or 3 or 5 or 7\n",
        "              1. Print the message \" User input number is not a Composite number.\"\n",
        "          3. Else if  number is  divisible by 2 or 3 or 5 or 7\n",
        "              1. Assign the boolean variable(is_Composite) the value True\n",
        "          4. Else if check whether the number is a perfect square\n",
        "              1. Assign the boolean variable(is_Composite) the value True\n",
        "          5. Else\n",
        "              1. Find the squareroot using math.sqrt(number) function in integer format.\n",
        "              2. For i in range (11,temp)\n",
        "                    1. See whether the number is divisible by the numbers from  \n",
        "                        11 to it's squareroot.\n",
        "                    2. If it is divisible by any number in this range\n",
        "                          1. Assign the boolean variable(is_Composite) the value True\n",
        "                          2. Break from the loop because the number is a Composite number and we don't have to check any further.\n",
        "                    3. Else means the number is not divisible by any of the numbers in the range.\n",
        "                          1. Assign the boolean variable(is_Composite) the value False\n",
        "                      \n",
        "\n",
        "5. If the boolean value(is_Composite) is True, print the message \"User input number is a Composite number.\"\n",
        "6. Else means the boolean value(is_Composite) is false,print the message \"User input number is not a Composite number.\"  \n",
        "\n"
      ],
      "metadata": {
        "id": "VuohYpoOrufy"
      }
    },
    {
      "cell_type": "code",
      "source": [
        "import math\n",
        "is_Composite=False\n",
        "number = input(\"Please enter a Natural number greater than 1 to check if it is a Composite number.\")#Accept user input\n",
        "print(f\"You entered {number}.\")#Using f-strings\n",
        "#print(type(number))#string format (By default datatype of user input is string)\n",
        "if number.isdigit()== False or number ==\"0\" or number ==\"1\":#check if input not valid (alphanumeric or a negative number or a floating point number or 0 or 1)\n",
        "  print(\"Invalid input\")\n",
        "else:#Input is valid\n",
        "  number = int(number) #convert input datatype to integer\n",
        "  #print(type(number))#input datatype should be integer now\n",
        "  if number == 2 or number == 3 or number ==5 or number ==7:\n",
        "    print(f\"{number} is not a Composite number\")\n",
        "  elif number%2==0 or number%3==0 or number%5==0 or number%7==0:#Composite numbers are mostly divisible by 2 or 3 or 5 or 7\n",
        "    is_Composite=True\n",
        "  elif pow(int(math.sqrt(number)), 2) == number:#If the number is a perfect square it is a Composite number (and the squareroot is its factor)\n",
        "    is_Composite = True\n",
        "  else:\n",
        "    temp=int(math.sqrt(number))\n",
        "    for i in range(11,temp):\n",
        "      if number%i==0:\n",
        "        is_Composite=True\n",
        "        break\n",
        "      else:\n",
        "        is_Composite=False\n",
        "\n",
        "if is_Composite == True:\n",
        "    print(f\"{number} is a Composite number.\")\n",
        "else:\n",
        "    print(f\"{number} is not a Composite number.\")"
      ],
      "metadata": {
        "colab": {
          "base_uri": "https://localhost:8080/"
        },
        "id": "g4m-I6zjtQEU",
        "outputId": "57f09393-d375-4916-d5b3-979f8143edd8"
      },
      "execution_count": null,
      "outputs": [
        {
          "output_type": "stream",
          "name": "stdout",
          "text": [
            "Please enter a Natural number greater than 1 to check if it is a Composite number.33861\n",
            "You entered 33861.\n",
            "33861 is a Composite number.\n"
          ]
        }
      ]
    },
    {
      "cell_type": "markdown",
      "source": [
        "#Write a program that accepts user input (any Natural number > 1) and determines whether the user input is a Prime Number"
      ],
      "metadata": {
        "id": "rByog3sKP1Oy"
      }
    },
    {
      "cell_type": "markdown",
      "source": [
        "**Pseudo code (English)**\n",
        "1. Import math\n",
        "2. Declare a variable called factor\n",
        "3.  Declare a boolean variable(is_Prime) and assign it the value False\n",
        "4.  Ask the user to enter a Natural number greater than 1\n",
        "5.  Check if input is valid\n",
        "      1. If input not valid (alphanumeric or a negative number or a floating point number or 0 or 1)\n",
        "          1. print invalid input\n",
        "      2. Else (Proceed because if condition is false as input is valid)\n",
        "          1. Convert the number to integer format (by default the input is of String datatype).\n",
        "          2. If  number is 2 or 3 or 5 or 7\n",
        "              1. Print the message \"User input number is a Prime number.\"\n",
        "          3. Else if number is not divisible by 2 and 3 and 5 and 7 (four seperate elifs)\n",
        "              1. factor = [either 2 or 3 or 5 or 7, (number/either 2 or 3 or 5 or 7)]\n",
        "              2. Assign the boolean variable (is_Prime) the value False\n",
        "          4. Else if check if the number is not a perfect square (like 361)\n",
        "              1. Assign the boolean variable(is_Prime) the value True\n",
        "              2. Find the squareroot of the number using Math.sqrt(number) function in integer format (type conversion)\n",
        "              3. For j in range(11, squareroot)\n",
        "                  1. if number is divisible by any of the numbers in the range:\n",
        "                      1. Assign the boolean variable (is_Prime) the value False\n",
        "                      2. factor = j\n",
        "                      3. Break from the loop because the number is not a prime number and we do not have to check further\n",
        "                  2. Else means the number is not divisible by any of the numbers in the range (11, squareroot)\n",
        "                       1. Assign the boolean variable (is_Prime) the value True\n",
        "          5. Else means the number is a perfect square\n",
        "              1. Assign the boolean variable (is_Prime) the value False\n",
        "              2. Assign the variable 'factor' the squareroot value sing Math.sqrt(number) function in integer format (type conversion)\n",
        "  \n",
        "6. if is_Prime equals False\n",
        "    1. Print the message \"Number is not prime and it is divisible by {factor}\".\n",
        "7. Else if is_prime equals True\n",
        "    2. Print the message \"Number is a Prime number.\".\n"
      ],
      "metadata": {
        "id": "fKUt7cg_JtiW"
      }
    },
    {
      "cell_type": "code",
      "source": [
        "import math\n",
        "is_prime=False\n",
        "factor=0\n",
        "number = input(\"Please enter a Natural number greater than 1 to check if it is a Prime number: \")#Accept user input\n",
        "print(f\"You entered {number}.\")#Using f-strings\n",
        "#print(type(number))#input is in string format (by default datatype of  user input is string)\n",
        "if number.isdigit()== False or number ==\"0\" or number == \"1\":#check if input not valid (alphanumeric or a negative number or a floating point number or 0 or 1)\n",
        "  print(\"Invalid input\")\n",
        "else:#Input is invalid\n",
        "  number = int(number) #convert input datatype to integer\n",
        "  #print(type(number))#input datatype should be integer now\n",
        "  if number == 2 or number == 3 or number == 5 or number == 7:\n",
        "    print(f\"{number} is a Prime number.\")#2,3,5,7 are Prime numbers.\n",
        "  elif number%2==0:\n",
        "      is_prime=False\n",
        "      factor = [2,int(number/2)]\n",
        "  elif number%3==0:\n",
        "      is_prime=False\n",
        "      factor= [3,int(number/3)]\n",
        "  elif number%5 == 0:\n",
        "      is_prime=False\n",
        "      factor=[5,int(number/5)]\n",
        "  elif number%7 ==0:\n",
        "      is_prime=False\n",
        "      factor=[7,int(number/7)]\n",
        "\n",
        "  elif pow(int(math.sqrt(number)),2) != number: #Not a perfect square, could be a prime number\n",
        "    is_prime=True\n",
        "    temp=int(math.sqrt(number))#integer value of the squareroot\n",
        "    if pow(temp,2)!=number: #Not a perfect square\n",
        "      for j in range(11,temp):\n",
        "        if number%j ==0:\n",
        "          is_prime=False\n",
        "          factor=j\n",
        "          break #if divisible by any number we break because we don't need to check further\n",
        "        else:\n",
        "          is_prime=True\n",
        "\n",
        "  else:#If it is a perfect square , it is not a prime number\n",
        "      factor = int(math.sqrt(number))\n",
        "      is_prime=False\n",
        "if is_prime == False:\n",
        "    print(f\"{number} is not a Prime number. It is divisible by {factor}.\")\n",
        "elif is_prime == True:\n",
        "      print(f\"{number} is a Prime number.\")\n"
      ],
      "metadata": {
        "colab": {
          "base_uri": "https://localhost:8080/"
        },
        "id": "5xpob47cRtSA",
        "outputId": "7b24426f-6ac1-40af-9c7d-6b248830c319"
      },
      "execution_count": null,
      "outputs": [
        {
          "output_type": "stream",
          "name": "stdout",
          "text": [
            "Please enter a Natural number greater than 1 to check if it is a Prime number: 379\n",
            "You entered 379.\n",
            "379 is a Prime number.\n"
          ]
        }
      ]
    },
    {
      "cell_type": "markdown",
      "source": [
        "#Write a program to generate a random 3-digit prime number.\n",
        "**For instance something like **\n"
      ],
      "metadata": {
        "id": "vbRWdd0y-vg8"
      }
    },
    {
      "cell_type": "code",
      "source": [
        "import math\n",
        "import random\n",
        "begin=101\n",
        "ending=999\n",
        "prime_list3=[]\n",
        "is_prime=False\n",
        "for num in range(begin,ending):\n",
        "  if num%2==0 or num%3==0 and num%5==0 and num%7==0:\n",
        "    continue\n",
        "  elif pow(int(math.sqrt(num)),2) == num:\n",
        "    continue\n",
        "  else:\n",
        "    temp=int(math.sqrt(num))#integer value of the squareroot\n",
        "    for j in range(11,temp):\n",
        "      if num%j ==0:\n",
        "        is_prime=False\n",
        "        break\n",
        "      else:\n",
        "        is_prime=True\n",
        "    if is_prime==True:\n",
        "      prime_list3.append(num)\n",
        "#print(prime_list3)\n",
        "print(random.choice(prime_list3))\n",
        "\n"
      ],
      "metadata": {
        "colab": {
          "base_uri": "https://localhost:8080/"
        },
        "id": "RMKVeKKM_K6G",
        "outputId": "cdbe9a7c-e1bb-49d4-b775-dac09c1ae511"
      },
      "execution_count": null,
      "outputs": [
        {
          "output_type": "stream",
          "name": "stdout",
          "text": [
            "379\n"
          ]
        }
      ]
    }
  ]
}