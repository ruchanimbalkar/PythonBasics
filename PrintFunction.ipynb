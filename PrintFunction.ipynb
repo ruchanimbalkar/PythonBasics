{
  "nbformat": 4,
  "nbformat_minor": 0,
  "metadata": {
    "colab": {
      "provenance": [],
      "authorship_tag": "ABX9TyNHZ5D0xRGWwbxG/Hy6EreO",
      "include_colab_link": true
    },
    "kernelspec": {
      "name": "python3",
      "display_name": "Python 3"
    },
    "language_info": {
      "name": "python"
    }
  },
  "cells": [
    {
      "cell_type": "markdown",
      "metadata": {
        "id": "view-in-github",
        "colab_type": "text"
      },
      "source": [
        "<a href=\"https://colab.research.google.com/github/ruchanimbalkar/PythonBasics/blob/main/PrintFunction.ipynb\" target=\"_parent\"><img src=\"https://colab.research.google.com/assets/colab-badge.svg\" alt=\"Open In Colab\"/></a>"
      ]
    },
    {
      "cell_type": "markdown",
      "source": [
        "#Print Function\n",
        "**The print function prints what is in the parenthesis**\n",
        "print()"
      ],
      "metadata": {
        "id": "LXF3L3y4_Fm_"
      }
    },
    {
      "cell_type": "code",
      "source": [
        "print?"
      ],
      "metadata": {
        "id": "c_4xLy9WBaeZ"
      },
      "execution_count": null,
      "outputs": []
    },
    {
      "cell_type": "markdown",
      "source": [
        "#Comments in Python"
      ],
      "metadata": {
        "id": "49BjeQvX0IV-"
      }
    },
    {
      "cell_type": "code",
      "source": [
        "#comments in python are to describe the code and/or to hide the code (from compiler interpreter)\n",
        "print(\"This is the print function\") #This is the print function.\n",
        "#print(\"MESSAGE\")#This line of code is hidden from compiler/interpreter. It is treated as a comment and ignored."
      ],
      "metadata": {
        "colab": {
          "base_uri": "https://localhost:8080/"
        },
        "id": "o8t7mtd20Odt",
        "outputId": "cc7a1584-df93-49cd-df74-3b4ce450699f"
      },
      "execution_count": null,
      "outputs": [
        {
          "output_type": "stream",
          "name": "stdout",
          "text": [
            "This is the print function\n"
          ]
        }
      ]
    },
    {
      "cell_type": "code",
      "execution_count": null,
      "metadata": {
        "colab": {
          "base_uri": "https://localhost:8080/"
        },
        "id": "6XEQWlfL-_cP",
        "outputId": "99d37f34-d7b6-4f53-8e89-89a62b58fd5d"
      },
      "outputs": [
        {
          "output_type": "stream",
          "name": "stdout",
          "text": [
            "print( 'Hello World')\n"
          ]
        }
      ],
      "source": [
        "#print function prints the literal in the parenthesis on the console\n",
        "print(\"print( 'Hello World')\")"
      ]
    },
    {
      "cell_type": "code",
      "source": [
        "#print 'Hello World!' in Python.\n",
        "print(\"'Hello World!'\")\n",
        "#print \"Hello World!\" in Python.\n",
        "print('\"Hello World!\"')\n",
        "#print Hello World in Python\n",
        "print(\"Hello World!\")\n",
        "#print Hello 'World'! in Python\n",
        "print(\"Hello 'World'!\")"
      ],
      "metadata": {
        "colab": {
          "base_uri": "https://localhost:8080/"
        },
        "id": "Ia36xC1eAidj",
        "outputId": "361302e6-fb11-426c-cfc0-f1db922e626c"
      },
      "execution_count": null,
      "outputs": [
        {
          "output_type": "stream",
          "name": "stdout",
          "text": [
            "'Hello World!'\n",
            "\"Hello World!\"\n",
            "Hello World!\n",
            "Hello 'World'!\n"
          ]
        }
      ]
    },
    {
      "cell_type": "markdown",
      "source": [
        "#How to print quotation marks using backslash?"
      ],
      "metadata": {
        "id": "RTQb4e0czX7S"
      }
    },
    {
      "cell_type": "code",
      "source": [
        "print(\"My name is \\\"Rucha\\\" \")"
      ],
      "metadata": {
        "colab": {
          "base_uri": "https://localhost:8080/"
        },
        "id": "QsppXpGEzTU6",
        "outputId": "8bea35ee-26d7-48d6-83cd-bd381a9f8c54"
      },
      "execution_count": null,
      "outputs": [
        {
          "output_type": "stream",
          "name": "stdout",
          "text": [
            "My name is \"Rucha\" \n"
          ]
        }
      ]
    },
    {
      "cell_type": "code",
      "source": [
        "# print 100 in python\n",
        "print(100)\n",
        "print(\"100\")\n",
        "print('100')"
      ],
      "metadata": {
        "colab": {
          "base_uri": "https://localhost:8080/"
        },
        "id": "BBhCRYgMApfW",
        "outputId": "0571b968-db6e-46e1-cd89-9dd45723bf6b"
      },
      "execution_count": null,
      "outputs": [
        {
          "output_type": "stream",
          "name": "stdout",
          "text": [
            "100\n",
            "100\n",
            "100\n"
          ]
        }
      ]
    },
    {
      "cell_type": "code",
      "source": [
        "#print 3.14 in python\n",
        "print(3.14)\n",
        "print(\"3.14\")\n",
        "print('3.14')"
      ],
      "metadata": {
        "colab": {
          "base_uri": "https://localhost:8080/"
        },
        "id": "xJ36WzqwAqoi",
        "outputId": "7fa03540-dbdc-44cb-c3a1-d21b88631d5c"
      },
      "execution_count": null,
      "outputs": [
        {
          "output_type": "stream",
          "name": "stdout",
          "text": [
            "3.14\n",
            "3.14\n",
            "3.14\n"
          ]
        }
      ]
    },
    {
      "cell_type": "markdown",
      "source": [
        "#Print boolean (True and False) values"
      ],
      "metadata": {
        "id": "CsijfHohsRyJ"
      }
    },
    {
      "cell_type": "code",
      "source": [
        "#print True (boolean value) in python\n",
        "print (True)\n",
        "#print False (boolean value) in python\n",
        "print(False)"
      ],
      "metadata": {
        "colab": {
          "base_uri": "https://localhost:8080/"
        },
        "id": "6bUX3ZaDAwNl",
        "outputId": "69bd02fc-7481-422c-8206-9491391ad804"
      },
      "execution_count": null,
      "outputs": [
        {
          "output_type": "stream",
          "name": "stdout",
          "text": [
            "True\n",
            "False\n"
          ]
        }
      ]
    },
    {
      "cell_type": "markdown",
      "source": [
        "#Print None Datatype"
      ],
      "metadata": {
        "id": "0me6YY581idy"
      }
    },
    {
      "cell_type": "code",
      "source": [
        "#print None datatype using print function\n",
        "print(None)"
      ],
      "metadata": {
        "colab": {
          "base_uri": "https://localhost:8080/"
        },
        "id": "IheHh3go0iYx",
        "outputId": "897be037-8036-4163-c3bc-f4ad20d2c8f9"
      },
      "execution_count": null,
      "outputs": [
        {
          "output_type": "stream",
          "name": "stdout",
          "text": [
            "None\n"
          ]
        }
      ]
    },
    {
      "cell_type": "markdown",
      "source": [
        "#If you try to print a string without quotation marks in Python, it gives you error"
      ],
      "metadata": {
        "id": "Hzr_65ewsbo7"
      }
    },
    {
      "cell_type": "code",
      "source": [
        "#print(Hello World!)#uncomment and run to see error\n",
        "Hello_World = \"Hello World!\"\n",
        "print(Hello_World)"
      ],
      "metadata": {
        "colab": {
          "base_uri": "https://localhost:8080/"
        },
        "id": "QzFbC2aWsiPH",
        "outputId": "334eb79c-04c3-4c2a-8037-673211be3022"
      },
      "execution_count": null,
      "outputs": [
        {
          "output_type": "stream",
          "name": "stdout",
          "text": [
            "Hello World!\n"
          ]
        }
      ]
    },
    {
      "cell_type": "markdown",
      "source": [
        "#Printing multiple values in the print function\n",
        "**using the comma (,) between values**\n",
        "\n",
        "The print() method can take multiple parameters separated by commas."
      ],
      "metadata": {
        "id": "Spih8KIJByA3"
      }
    },
    {
      "cell_type": "code",
      "source": [
        "print(100,3.14,True)"
      ],
      "metadata": {
        "colab": {
          "base_uri": "https://localhost:8080/"
        },
        "id": "t5VVHQayBxmG",
        "outputId": "790d7fa2-eb96-4a16-b3a4-798ba850bbd9"
      },
      "execution_count": null,
      "outputs": [
        {
          "output_type": "stream",
          "name": "stdout",
          "text": [
            "100 3.14 True\n"
          ]
        }
      ]
    },
    {
      "cell_type": "code",
      "source": [
        "print(\"Hey\", \"Hello\", 4.98, 1000, True, None)"
      ],
      "metadata": {
        "colab": {
          "base_uri": "https://localhost:8080/"
        },
        "id": "U-X8s_AqtW4j",
        "outputId": "6666c257-22b3-4f3d-8c33-92d06b8fa97a"
      },
      "execution_count": null,
      "outputs": [
        {
          "output_type": "stream",
          "name": "stdout",
          "text": [
            "Hey Hello 4.98 1000 True None\n"
          ]
        }
      ]
    },
    {
      "cell_type": "markdown",
      "source": [
        "#Print a multi-line paragraph\n"
      ],
      "metadata": {
        "id": "_-oql94SsMu5"
      }
    },
    {
      "cell_type": "code",
      "source": [
        "#print a multi-line paragraph with new lines\n",
        "#This can be dine using \"\"\" Three double quotes\"\"\" or three single quotes (I used the plot summary of the Batman TV series)\n",
        "print(\"\"\"The series opens at the Republic of Moldavia exhibit,\n",
        "located at the Gotham City World's Fair, the Moldavian prime\n",
        "minister slices into the Moldavian friendshipcake and unknowingly\n",
        "causes it to explode, releasing a concealed riddle. At the Gotham\n",
        "City Police Department, Police Commissioner James Gordon (Neil\n",
        "Hamilton)and Chief Miles O'Hara(Stafford Repp) suspect it to\n",
        "be the Riddler (Gorshin). \"\"\")\n",
        "print()\n",
        "print('''They turn to Inspector Bash and all the other senior policemen,\n",
        "but all bow their heads for a moment of silence, they turn to a red phone\n",
        "(\"I don't know who he is behind that mask of his, but I do know when\n",
        "we need him and we need him now!\"). After a glimpse into the lives of\n",
        "Bruce Wayne (Adam West) and Dick Grayson (Burt Ward) as well as the\n",
        "opening credits, the riddle leads them as Batman and Robin to the Peale\n",
        "art gallery, where they catch the Riddler in the act of taking a cross\n",
        "from its proprietor Gideon Peale at gunpoint. ''')"
      ],
      "metadata": {
        "colab": {
          "base_uri": "https://localhost:8080/"
        },
        "id": "kTaq8SXsAzcc",
        "outputId": "7e921a49-7a60-4e99-b506-0527c1b97795"
      },
      "execution_count": null,
      "outputs": [
        {
          "output_type": "stream",
          "name": "stdout",
          "text": [
            "The series opens at the Republic of Moldavia exhibit,\n",
            "located at the Gotham City World's Fair, the Moldavian prime \n",
            "minister slices into the Moldavian friendshipcake and unknowingly\n",
            "causes it to explode, releasing a concealed riddle. At the Gotham \n",
            "City Police Department, Police Commissioner James Gordon (Neil\n",
            "Hamilton)and Chief Miles O'Hara(Stafford Repp) suspect it to \n",
            "be the Riddler (Gorshin). \n",
            "\n",
            "They turn to Inspector Bash and all the other senior policemen,\n",
            "but all bow their heads for a moment of silence, they turn to a red phone \n",
            "(\"I don't know who he is behind that mask of his, but I do know when\n",
            "we need him and we need him now!\"). After a glimpse into the lives of\n",
            "Bruce Wayne (Adam West) and Dick Grayson (Burt Ward) as well as the\n",
            "opening credits, the riddle leads them as Batman and Robin to the Peale\n",
            "art gallery, where they catch the Riddler in the act of taking a cross\n",
            "from its proprietor Gideon Peale at gunpoint. \n"
          ]
        }
      ]
    },
    {
      "cell_type": "code",
      "source": [
        "print?"
      ],
      "metadata": {
        "id": "K0cVBys6uKvq"
      },
      "execution_count": null,
      "outputs": []
    },
    {
      "cell_type": "markdown",
      "source": [
        "#Print sep and end in print\n",
        "The print function by default uses space ('') to separate values.\n",
        "After the last value, the string '\\n' (new line) is appended."
      ],
      "metadata": {
        "id": "7EBtuOI_s_cB"
      }
    },
    {
      "cell_type": "code",
      "source": [
        "print(100, 200)\n",
        "print(True)"
      ],
      "metadata": {
        "colab": {
          "base_uri": "https://localhost:8080/"
        },
        "id": "WdWbvtqgtuR1",
        "outputId": "67414861-fef3-43a7-f704-2ae50815e156"
      },
      "execution_count": null,
      "outputs": [
        {
          "output_type": "stream",
          "name": "stdout",
          "text": [
            "100 200\n",
            "True\n"
          ]
        }
      ]
    },
    {
      "cell_type": "code",
      "source": [
        "#let us try specific values for the separator (sep)\n",
        "print(100,200, sep='+')\n",
        "print(True, False, sep=\"/\")\n",
        "print(1000, 500, sep='-')\n",
        "print(1000,500, sep='\\n')#if you want to print multiple values using one print function but on new lines, this value for sep is useful"
      ],
      "metadata": {
        "colab": {
          "base_uri": "https://localhost:8080/"
        },
        "id": "IO09xsRMuOBW",
        "outputId": "1878b406-4f47-41b9-ea3d-bfb4a6941633"
      },
      "execution_count": null,
      "outputs": [
        {
          "output_type": "stream",
          "name": "stdout",
          "text": [
            "100+200\n",
            "True/False\n",
            "1000-500\n",
            "1000\n",
            "500\n"
          ]
        }
      ]
    },
    {
      "cell_type": "code",
      "source": [
        "#We know by default the value for end = '\\n'\n",
        "print(1,2,3)\n",
        "print(4,5,6)\n",
        "print(7,8,9)"
      ],
      "metadata": {
        "colab": {
          "base_uri": "https://localhost:8080/"
        },
        "id": "ZlsO35hPvjIz",
        "outputId": "6949d5c5-e0b0-49cc-c419-894317c32953"
      },
      "execution_count": null,
      "outputs": [
        {
          "output_type": "stream",
          "name": "stdout",
          "text": [
            "1 2 3\n",
            "4 5 6\n",
            "7 8 9\n"
          ]
        }
      ]
    },
    {
      "cell_type": "code",
      "source": [
        "#let us try sepcific values for end(\"/\"\")\n",
        "print(1,2,3,end='/')\n",
        "print(4,5,6)"
      ],
      "metadata": {
        "colab": {
          "base_uri": "https://localhost:8080/"
        },
        "outputId": "01d0b449-14f1-49cc-bd6e-1972c317a824",
        "id": "ijvkJ6xevs8v"
      },
      "execution_count": null,
      "outputs": [
        {
          "output_type": "stream",
          "name": "stdout",
          "text": [
            "1 2 3/4 5 6\n"
          ]
        }
      ]
    },
    {
      "cell_type": "code",
      "source": [
        "#let us try sepcific values for end(\" \")\n",
        "print(1,2,3,end=\" \")\n",
        "print(4,5,6, end=\" \")\n",
        "print(7,8,9)"
      ],
      "metadata": {
        "colab": {
          "base_uri": "https://localhost:8080/"
        },
        "outputId": "b21ba214-4b0a-489d-ece7-4cdebe0a3ddd",
        "id": "5lcj8u9GvsJ6"
      },
      "execution_count": null,
      "outputs": [
        {
          "output_type": "stream",
          "name": "stdout",
          "text": [
            "1 2 3 4 5 6 7 8 9\n"
          ]
        }
      ]
    },
    {
      "cell_type": "code",
      "source": [
        "#let us try sepcific values for end \"_\"\n",
        "print(1,2,3,end=\"_\")\n",
        "print(4,5,6,end=\"_\")\n",
        "print(7,8,9)"
      ],
      "metadata": {
        "colab": {
          "base_uri": "https://localhost:8080/"
        },
        "id": "It-iJR-5va-n",
        "outputId": "b4823720-684b-4d86-8edb-01ed9a22bbd4"
      },
      "execution_count": null,
      "outputs": [
        {
          "output_type": "stream",
          "name": "stdout",
          "text": [
            "1 2 3_4 5 6_7 8 9\n"
          ]
        }
      ]
    },
    {
      "cell_type": "code",
      "source": [
        "#let us try specific values for both sep and end\n",
        "#To print 1_2_3_4_5_6_7 sep=\"_\" (in all the three print function statements) and end=\"_\" (in the top two print function statements)\n",
        "print(1,2,3,sep=\"_\",end=\"_\")\n",
        "print(4,5,6,sep=\"_\",end=\"_\")\n",
        "print(7,8,9,sep=\"_\")"
      ],
      "metadata": {
        "colab": {
          "base_uri": "https://localhost:8080/"
        },
        "id": "-feql4qyw4q9",
        "outputId": "7a6c058d-5256-470b-e6a9-9cf919da4025"
      },
      "execution_count": null,
      "outputs": [
        {
          "output_type": "stream",
          "name": "stdout",
          "text": [
            "1_2_3_4_5_6_7_8_9\n"
          ]
        }
      ]
    },
    {
      "cell_type": "markdown",
      "source": [
        "#Let us try printing\n",
        "1\n",
        "2\n",
        "3 4+5+6%7-8-9\n",
        "**using different values for sep and end**"
      ],
      "metadata": {
        "id": "TiFcYK61yRc2"
      }
    },
    {
      "cell_type": "code",
      "source": [
        "#Let's try printing\n",
        "# 1\n",
        "#2\n",
        "#3 4+5+6%7-8-9\n",
        "print(1,2,3, sep=\"\\n\", end=\" \")\n",
        "print(4,5,6, sep=\"+\", end=\"%\")\n",
        "print(7,8,9,sep=\"-\")"
      ],
      "metadata": {
        "colab": {
          "base_uri": "https://localhost:8080/"
        },
        "id": "WE1ndKXxxqzy",
        "outputId": "317cf51c-a33f-4a82-b3f3-19e634dae7d8"
      },
      "execution_count": null,
      "outputs": [
        {
          "output_type": "stream",
          "name": "stdout",
          "text": [
            "1\n",
            "2\n",
            "3 4+5+6%7-8-9\n"
          ]
        }
      ]
    },
    {
      "cell_type": "markdown",
      "source": [
        "#How to print backslash using print function?\n",
        "**\\**"
      ],
      "metadata": {
        "id": "rSReb0hcy3P1"
      }
    },
    {
      "cell_type": "code",
      "source": [
        "print(\"\\\\\")"
      ],
      "metadata": {
        "colab": {
          "base_uri": "https://localhost:8080/"
        },
        "id": "dpIB9kApzCGH",
        "outputId": "730b39d7-9513-40ee-bd61-8358ac6c8a16"
      },
      "execution_count": null,
      "outputs": [
        {
          "output_type": "stream",
          "name": "stdout",
          "text": [
            "\\\n"
          ]
        }
      ]
    },
    {
      "cell_type": "markdown",
      "source": [
        "#Trying a different value for the flush parameter"
      ],
      "metadata": {
        "id": "VkaTBP1w1z2w"
      }
    },
    {
      "cell_type": "code",
      "source": [
        "print(1,2,3)\n",
        "print(\"Hi, There\", flush=True)\n",
        "print(7,8,9)\n",
        "#Will come back to this soon"
      ],
      "metadata": {
        "colab": {
          "base_uri": "https://localhost:8080/"
        },
        "id": "cE7YMYWF15Vx",
        "outputId": "c6dc4b89-1354-4aa6-92c3-36dad0039a63"
      },
      "execution_count": null,
      "outputs": [
        {
          "output_type": "stream",
          "name": "stdout",
          "text": [
            "1 2 3\n",
            "Hi, There\n",
            "7 8 9\n"
          ]
        }
      ]
    }
  ]
}