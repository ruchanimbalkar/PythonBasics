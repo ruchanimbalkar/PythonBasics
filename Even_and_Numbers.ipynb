{
  "nbformat": 4,
  "nbformat_minor": 0,
  "metadata": {
    "colab": {
      "provenance": [],
      "toc_visible": true,
      "authorship_tag": "ABX9TyMTJ8P41q40kme3Djyf+s+E",
      "include_colab_link": true
    },
    "kernelspec": {
      "name": "python3",
      "display_name": "Python 3"
    },
    "language_info": {
      "name": "python"
    }
  },
  "cells": [
    {
      "cell_type": "markdown",
      "metadata": {
        "id": "view-in-github",
        "colab_type": "text"
      },
      "source": [
        "<a href=\"https://colab.research.google.com/github/ruchanimbalkar/PythonBasics/blob/main/Even_and_Numbers.ipynb\" target=\"_parent\"><img src=\"https://colab.research.google.com/assets/colab-badge.svg\" alt=\"Open In Colab\"/></a>"
      ]
    },
    {
      "cell_type": "markdown",
      "source": [
        "#Write a Program in Python that determines whether a user entered number is even or odd.\n",
        "**Theory**\n",
        "Natural numbers are the numbers 1,2,3...and so on up to infinity.\n",
        "Even numbers are divisible by 2.\n",
        "2 is an even number.\n",
        "2,4,6,8,..are even numbers.\n",
        "Odd numbers are not divisible by 2.\n",
        "3 is an odd number.\n",
        "1,3,5,7... are odd numbers.\n",
        "0 is neither odd nor even.\n",
        "**Pseudocode (English)**\n",
        "1. Ask user to enter a Natural number.\n",
        "2. If user input is not valid (alphanumeric values or negative integers or floating point numbers or 0)\n",
        "    1. Print \"Invalid input\" on the console.\n",
        "3. Else (means valid input)\n",
        "    1. If number%2==0:\n",
        "         1. Print \"Number is even.\"\n",
        "    2. Else\n",
        "          1. Print \"Number is odd\"."
      ],
      "metadata": {
        "id": "7aTBzZbx2NiK"
      }
    },
    {
      "cell_type": "markdown",
      "source": [
        "#Version 1"
      ],
      "metadata": {
        "id": "7TFQZgO85hiA"
      }
    },
    {
      "cell_type": "code",
      "source": [
        "numb=input(\"Please enter any Natural number to determine whether it is even or odd: \")\n",
        "if numb.isdigit()== False or numb == \"0\":\n",
        "  print(\"Invalid input.\")\n",
        "else:\n",
        "  numb = int (numb)\n",
        "  if numb%2==0:\n",
        "    print(f\"{numb} is an even number.\")\n",
        "  else:\n",
        "    print(f\"{numb} is an odd number.\")"
      ],
      "metadata": {
        "colab": {
          "base_uri": "https://localhost:8080/"
        },
        "id": "tkaH5IkP2vsw",
        "outputId": "8e3e6f30-58e2-4575-f3e3-ae9a5f27574a"
      },
      "execution_count": 14,
      "outputs": [
        {
          "output_type": "stream",
          "name": "stdout",
          "text": [
            "Please enter any Natural number to determine whether it is even or odd: 89962314\n",
            "89962314 is an even number.\n"
          ]
        }
      ]
    },
    {
      "cell_type": "markdown",
      "source": [
        "#Version 2"
      ],
      "metadata": {
        "id": "0apkJNPd5j1p"
      }
    },
    {
      "cell_type": "code",
      "source": [
        "numb=input(\"Please enter any Natural number to determine whether it is even or odd: \")\n",
        "if numb.isdigit()== False or numb == \"0\":\n",
        "  print(\"Invalid input.\")\n",
        "else:\n",
        "  numb = int (numb)\n",
        "  if numb%2!=0:\n",
        "    print(f\"{numb} is an odd number.\")\n",
        "  else:\n",
        "    print(f\"{numb} is an even number.\")"
      ],
      "metadata": {
        "colab": {
          "base_uri": "https://localhost:8080/"
        },
        "id": "y7TBOjap5l0z",
        "outputId": "411f6d7b-8e83-455f-e33e-2b69ec24c10e"
      },
      "execution_count": 16,
      "outputs": [
        {
          "output_type": "stream",
          "name": "stdout",
          "text": [
            "Please enter any Natural number to determine whether it is even or odd: 69\n",
            "69 is an odd number.\n"
          ]
        }
      ]
    }
  ]
}